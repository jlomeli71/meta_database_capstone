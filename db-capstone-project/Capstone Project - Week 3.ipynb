{
 "cells": [
  {
   "cell_type": "markdown",
   "id": "5a420976-53d7-4a1f-b647-a050b011ebf2",
   "metadata": {},
   "source": [
    "# Set up the client project"
   ]
  },
  {
   "cell_type": "markdown",
   "id": "4b79d6af-995f-4dfa-91ba-332f7b28c295",
   "metadata": {},
   "source": [
    "### Scenario\n",
    "Little Lemon needs you to help them to build a Booking System so that their guests can book tables with the restaurant. Use your knowledge of database clients to help Little Lemon complete this task.\n",
    "\n",
    "### Prerequisites\n",
    "To complete this task, you need to create a folder and then open a command prompt at that location. Next, to start writing code to create the booking system, you first need to ensure that you have Python installed, a working IDE and configured a driver that you can use to interact with your database."
   ]
  },
  {
   "cell_type": "code",
   "execution_count": null,
   "id": "e440f7ae-b820-4e10-90b4-7e4c4e9604ac",
   "metadata": {},
   "outputs": [],
   "source": [
    "# Install the mysql-connector-python library\n",
    "!pip install mysql-connector-python"
   ]
  },
  {
   "cell_type": "code",
   "execution_count": null,
   "id": "3c7bdcd9-d6fd-4bd0-b62c-d97c23145ce4",
   "metadata": {},
   "outputs": [],
   "source": [
    "# Import the connector under the alias connector:\n",
    "import mysql.connector as connector"
   ]
  },
  {
   "cell_type": "markdown",
   "id": "f21a416f-c74f-4ca7-b8dc-d8d321aaaf5b",
   "metadata": {},
   "source": [
    "### Scenario \n",
    "Little Lemon have started building a functional booking system from which they can manage their customer data. An integral part of a well-functioning system is the ability to query data. Little Lemon need you to help them add the search functionality required to query their data. "
   ]
  },
  {
   "cell_type": "markdown",
   "id": "532962fe-7f63-466a-846f-9c91f7a76c74",
   "metadata": {},
   "source": [
    "### Task 1\n",
    "\n",
    "In the previous exercise you created a Python environment. In the first task of this exercise, you are tasked with extending the environment to connect with your database and interact with the data it holds. \n",
    "\n",
    "Your first step is to import the connector module, enter your user details and connect with the database (Hint: you can use an alias when importing the module).\n",
    "\n",
    "This gives you access to all the functionality available from the connector API, which can be accessed through the variable named connector (or whichever alias you choose). \n",
    "\n",
    "To connect with your database, you can call the connect method of the connector class and pass in your details using the following code: "
   ]
  },
  {
   "cell_type": "code",
   "execution_count": null,
   "id": "5cd63165-9160-40a9-8062-92b48e3af5fd",
   "metadata": {},
   "outputs": [],
   "source": [
    "# Verify that a connection can be made with your database by calling the connection method from the connector class: \n",
    "try: \n",
    "    connection = connector.connect(\n",
    "        user=\"jlomeli\", \n",
    "        password=\"Monchit0$\", \n",
    "        auth_plugin=\"mysql_native_password\",\n",
    "        # db=\"littlelemondb\",\n",
    "    )\n",
    "    print(\"Connection between MySQL and Python is established.\\n\")\n",
    "except:\n",
    "    print(\"There was a problem connecting to the MySQL server\")"
   ]
  },
  {
   "cell_type": "code",
   "execution_count": 44,
   "id": "f95895c5-5186-4cc5-b1db-e7107c7d22f9",
   "metadata": {},
   "outputs": [
    {
     "name": "stdout",
     "output_type": "stream",
     "text": [
      "Cursor is created to communicate with the MySQL using Python.\n",
      "\n"
     ]
    }
   ],
   "source": [
    "# Create cursor object to communicate with entire MySQL database\n",
    "cursor = connection.cursor()\n",
    "print(\"Cursor is created to communicate with the MySQL using Python.\\n\")"
   ]
  },
  {
   "cell_type": "code",
   "execution_count": null,
   "id": "f09a5adf-9d08-4c8f-97ee-6718fb1ecddc",
   "metadata": {},
   "outputs": [],
   "source": [
    "# Show databases\n",
    "cursor.execute(\"SHOW DATABASES\")\n",
    "for database in cursor:\n",
    "    print(database)"
   ]
  },
  {
   "cell_type": "code",
   "execution_count": null,
   "id": "9d765a3a-1781-4998-997a-0da9d3e62d95",
   "metadata": {},
   "outputs": [],
   "source": []
  },
  {
   "cell_type": "code",
   "execution_count": 32,
   "id": "75e894fd-03c5-40a9-a2fb-e7202c45db8a",
   "metadata": {},
   "outputs": [
    {
     "name": "stdout",
     "output_type": "stream",
     "text": [
      "The database littlelemondb is set for use.\n",
      "\n"
     ]
    }
   ],
   "source": [
    "# Set little_lemon database for use \n",
    "cursor.execute(\"USE littlelemondb\")\n",
    "print(\"The database littlelemondb is set for use.\\n\")"
   ]
  },
  {
   "cell_type": "code",
   "execution_count": null,
   "id": "f030cd66-2e60-43c6-8756-4ef4eab40c85",
   "metadata": {},
   "outputs": [],
   "source": [
    "# Checking to which database we are connected now\n",
    "connection.database"
   ]
  },
  {
   "cell_type": "markdown",
   "id": "ed1fdec7-33a1-40e3-b44f-605110c60709",
   "metadata": {},
   "source": [
    "### Task 2\n",
    "\n",
    "In this second task, you now need to query the database to show all tables within the database. \r\n",
    "\r\n",
    "Having established a connection in the first task, you need to execute a test query to ensure that there are no issues. You can do this by executing, or passing, a generic query that returns a snapshot of the database tables. \r\n",
    "\r\n",
    "You need to execute the query on the cursor using the code that follows. The cursor, as you should recall, is the bridge through which you can pass queries and return results. "
   ]
  },
  {
   "cell_type": "code",
   "execution_count": 37,
   "id": "00a55a1b-95c3-4aed-bb13-1352829caddb",
   "metadata": {},
   "outputs": [
    {
     "ename": "InternalError",
     "evalue": "Unread result found",
     "output_type": "error",
     "traceback": [
      "\u001b[1;31m---------------------------------------------------------------------------\u001b[0m",
      "\u001b[1;31mInternalError\u001b[0m                             Traceback (most recent call last)",
      "Cell \u001b[1;32mIn[37], line 2\u001b[0m\n\u001b[0;32m      1\u001b[0m show_tables_query \u001b[38;5;241m=\u001b[39m \u001b[38;5;124m\"\u001b[39m\u001b[38;5;124mSHOW tables\u001b[39m\u001b[38;5;124m\"\u001b[39m \n\u001b[1;32m----> 2\u001b[0m \u001b[43mcursor\u001b[49m\u001b[38;5;241;43m.\u001b[39;49m\u001b[43mexecute\u001b[49m\u001b[43m(\u001b[49m\u001b[43mshow_tables_query\u001b[49m\u001b[43m)\u001b[49m\n",
      "File \u001b[1;32mC:\\Python39\\lib\\site-packages\\mysql\\connector\\cursor_cext.py:303\u001b[0m, in \u001b[0;36mCMySQLCursor.execute\u001b[1;34m(self, operation, params, multi)\u001b[0m\n\u001b[0;32m    301\u001b[0m \u001b[38;5;28;01mexcept\u001b[39;00m (ProgrammingError, \u001b[38;5;167;01mReferenceError\u001b[39;00m) \u001b[38;5;28;01mas\u001b[39;00m err:\n\u001b[0;32m    302\u001b[0m     \u001b[38;5;28;01mraise\u001b[39;00m ProgrammingError(\u001b[38;5;124m\"\u001b[39m\u001b[38;5;124mCursor is not connected\u001b[39m\u001b[38;5;124m\"\u001b[39m, \u001b[38;5;241m2055\u001b[39m) \u001b[38;5;28;01mfrom\u001b[39;00m \u001b[38;5;21;01merr\u001b[39;00m\n\u001b[1;32m--> 303\u001b[0m \u001b[38;5;28;43mself\u001b[39;49m\u001b[38;5;241;43m.\u001b[39;49m\u001b[43m_cnx\u001b[49m\u001b[38;5;241;43m.\u001b[39;49m\u001b[43mhandle_unread_result\u001b[49m\u001b[43m(\u001b[49m\u001b[43m)\u001b[49m\n\u001b[0;32m    305\u001b[0m stmt \u001b[38;5;241m=\u001b[39m \u001b[38;5;124m\"\u001b[39m\u001b[38;5;124m\"\u001b[39m\n\u001b[0;32m    306\u001b[0m \u001b[38;5;28mself\u001b[39m\u001b[38;5;241m.\u001b[39mreset()\n",
      "File \u001b[1;32mC:\\Python39\\lib\\site-packages\\mysql\\connector\\connection_cext.py:955\u001b[0m, in \u001b[0;36mCMySQLConnection.handle_unread_result\u001b[1;34m(self, prepared)\u001b[0m\n\u001b[0;32m    953\u001b[0m     \u001b[38;5;28mself\u001b[39m\u001b[38;5;241m.\u001b[39mconsume_results()\n\u001b[0;32m    954\u001b[0m \u001b[38;5;28;01melif\u001b[39;00m unread_result:\n\u001b[1;32m--> 955\u001b[0m     \u001b[38;5;28;01mraise\u001b[39;00m InternalError(\u001b[38;5;124m\"\u001b[39m\u001b[38;5;124mUnread result found\u001b[39m\u001b[38;5;124m\"\u001b[39m)\n",
      "\u001b[1;31mInternalError\u001b[0m: Unread result found"
     ]
    }
   ],
   "source": [
    "show_tables_query = \"SHOW tables\" \n",
    "cursor.execute(show_tables_query)"
   ]
  },
  {
   "cell_type": "code",
   "execution_count": 36,
   "id": "fd7c00ef-8dea-4c7b-b660-4312c9ac5f16",
   "metadata": {},
   "outputs": [
    {
     "data": {
      "text/plain": [
       "NoneType"
      ]
     },
     "execution_count": 36,
     "metadata": {},
     "output_type": "execute_result"
    }
   ],
   "source": [
    "# Retrieve query results in a variable ‘results’\n",
    "results = cursor.fetchall()"
   ]
  },
  {
   "cell_type": "code",
   "execution_count": null,
   "id": "e0813023-0b29-4a07-87d8-de7ffe22501c",
   "metadata": {},
   "outputs": [],
   "source": [
    "# Use for loop to print the names of all the tables \n",
    "for table in results:\n",
    "    print(table)"
   ]
  },
  {
   "cell_type": "markdown",
   "id": "2c630d13-5815-4a5d-9a98-71c3b71adac7",
   "metadata": {},
   "source": [
    "### Task 3\n",
    "\n",
    "##### Query with table JOIN\n",
    "\n",
    "For the third and final task, Little Lemon need you to return specific details from your database. They require the full name and contact details for every customer that has placed an order greater than $60 for a promotional campaign. \n",
    "\n",
    "You can use the following steps to implement this functionality in your database directory:"
   ]
  },
  {
   "cell_type": "code",
   "execution_count": null,
   "id": "875a6090-f7ea-4034-b98e-10e4e2603705",
   "metadata": {},
   "outputs": [],
   "source": []
  },
  {
   "cell_type": "code",
   "execution_count": null,
   "id": "90a8c59b-0226-49c2-90a0-6af55c645eae",
   "metadata": {},
   "outputs": [],
   "source": []
  },
  {
   "cell_type": "code",
   "execution_count": null,
   "id": "ce4ce748-dfcd-4fe1-b604-fb3bf5cf41d5",
   "metadata": {},
   "outputs": [],
   "source": []
  },
  {
   "cell_type": "code",
   "execution_count": null,
   "id": "0f3affdb-6141-4def-b8f6-fc546c66b12a",
   "metadata": {},
   "outputs": [],
   "source": []
  },
  {
   "cell_type": "code",
   "execution_count": null,
   "id": "e8c607cd-bcda-495d-b18e-9e215b1097e9",
   "metadata": {},
   "outputs": [],
   "source": []
  },
  {
   "cell_type": "code",
   "execution_count": null,
   "id": "695fdfa7-a64b-46e7-b6d4-645f42bd81f1",
   "metadata": {},
   "outputs": [],
   "source": []
  },
  {
   "cell_type": "code",
   "execution_count": null,
   "id": "f3627dcc-751f-4ae5-83cf-5b95a07d693b",
   "metadata": {},
   "outputs": [],
   "source": []
  },
  {
   "cell_type": "markdown",
   "id": "2d889eb0-c42e-40f0-943d-dc3e765e4ebb",
   "metadata": {},
   "source": [
    "### Clean up environment\n",
    "\n",
    "If cleaning the database is required uncomment command lines"
   ]
  },
  {
   "cell_type": "code",
   "execution_count": null,
   "id": "4167ae2c-0a31-42f4-a7cc-40f3d4b1ea05",
   "metadata": {},
   "outputs": [],
   "source": [
    "# If exist, drop the database first \n",
    "cursor.execute(\"DROP DATABASE IF EXISTS littlelemondb\")"
   ]
  },
  {
   "cell_type": "code",
   "execution_count": 9,
   "id": "da11c6bb-6777-4104-8c66-cd74706d3eb7",
   "metadata": {},
   "outputs": [],
   "source": [
    "# Create database and checking all that we have!\n",
    "# create_database_query = \"\"\"CREATE DATABASE littlelemondb\"\"\""
   ]
  },
  {
   "cell_type": "code",
   "execution_count": 10,
   "id": "e9381183-7ca3-4c6e-96c0-da59e71ce968",
   "metadata": {},
   "outputs": [],
   "source": [
    "# cursor.execute(create_database_query)"
   ]
  },
  {
   "cell_type": "code",
   "execution_count": 11,
   "id": "0973a6d5-238a-4516-a5be-91e79460f4ec",
   "metadata": {},
   "outputs": [],
   "source": [
    "# use_database_query = \"USE little_lemon\""
   ]
  },
  {
   "cell_type": "code",
   "execution_count": 12,
   "id": "5270c316-15cf-4568-980f-29f4bf2335a8",
   "metadata": {},
   "outputs": [],
   "source": [
    "# cursor.execute(use_database_query)"
   ]
  },
  {
   "cell_type": "code",
   "execution_count": 13,
   "id": "620c8c60-1e3f-4f83-95dd-6746e87c2561",
   "metadata": {},
   "outputs": [],
   "source": [
    "# Checking to which database we are connected now\n",
    "# connection.database"
   ]
  },
  {
   "cell_type": "markdown",
   "id": "fee94a11-d172-48cd-a33c-544694a99ed2",
   "metadata": {},
   "source": [
    "### Closing the conection\n",
    "\n",
    "Closing the conection"
   ]
  },
  {
   "cell_type": "code",
   "execution_count": null,
   "id": "e9a565d6-8d86-412a-b467-9b60e9cc7c54",
   "metadata": {},
   "outputs": [],
   "source": [
    "# Let's close the cursor and the connection\n",
    "if connection.is_connected():\n",
    "    connection.close()\n",
    "    print(\"MySQL connection is closed.\")\n",
    "else:\n",
    "    print(\"Connection is already closed\")"
   ]
  },
  {
   "cell_type": "code",
   "execution_count": null,
   "id": "37688359-6f00-476a-9ce5-f54826802e52",
   "metadata": {},
   "outputs": [],
   "source": []
  },
  {
   "cell_type": "code",
   "execution_count": null,
   "id": "7a9e3955-4d66-464a-8c06-be1d60b7d19f",
   "metadata": {},
   "outputs": [],
   "source": []
  },
  {
   "cell_type": "raw",
   "id": "ade79e91-fc3e-43ec-9a92-ac879dfc8755",
   "metadata": {},
   "source": [
    "SHOW TABLES FROM `littlelemondb`;\n",
    "USE `littlelemondb`;\n",
    "\n",
    "# Populating menuitems table\n",
    "SELECT * FROM `menuitems`;\n",
    "INSERT INTO `menuitems` (MenuItemsId, Course, Starter, Dessert, Drink)\n",
    "VALUES \n",
    "(1, 'La Italian pasta', 'a', 'b', 'c'),\n",
    "(2, 'Le Greek salad', 'a', 'b', 'c'),\n",
    "(3, 'La Japanese sushi', 'a', 'b', 'c'),\n",
    "(4, 'Le American sandwidth', 'a', 'b', 'c'),\n",
    "(5, 'La Mexican taco', 'a', 'b', 'c');\n",
    "COMMIT;\n",
    "SELECT * FROM `menuitems`;\n",
    "\n",
    "# Populating menu table\n",
    "SELECT * FROM `menu`;\n",
    "INSERT INTO `menu` (MenuId, Cuisine, MenuName, MenuItemsId)\n",
    "VALUES \n",
    "(1, 'Italian', 'La Italian Dancer', 1),\n",
    "(2, 'Greek', 'Le Greek Dance', 2),\n",
    "(3, 'Japanese', 'La Japonais Saks', 3),\n",
    "(4, 'American', 'Le American Mix', 4),\n",
    "(5, 'Mexican', 'Le Mexican Mariachi', 5);\n",
    "COMMIT;\n",
    "SELECT * FROM `menu`;\n",
    "\n",
    "# Populating orders table\n",
    "SELECT * FROM `orders`;\n",
    "INSERT INTO `orders` (OrderId, Date, Quantity, TotalCost, MenuId)\n",
    "VALUES \n",
    "(1, '2023-01-01', 1, 100, 1),\n",
    "(2, '2023-02-02', 2, 200, 2),\n",
    "(3, '2023-03-03', 3, 300, 3),\n",
    "(4, '2023-04-04', 4, 400, 4),\n",
    "(5, '2023-05-05', 5, 500, 5);\n",
    "COMMIT;\n",
    "SELECT * FROM `orders`;\n",
    "\n",
    "# Populating customers table\n",
    "SELECT * FROM `customers`;\n",
    "INSERT INTO `customers` (CustomerId, Name, Contact)\n",
    "VALUES \n",
    "(1, 'Nachito', '111-111'),\n",
    "(2, 'Petrita', '222-222'),\n",
    "(3, 'Marquino', '333-333'),\n",
    "(4, 'Polinesio', '444-444'),\n",
    "(5, 'Carambolas', '555-555');\n",
    "COMMIT;\n",
    "SELECT * FROM `customers`;\n",
    "\n",
    "# Populating deliverystatus table\n",
    "SELECT * FROM `deliverystatus`;\n",
    "INSERT INTO `deliverystatus` (DeliveryId, Date, Status)\n",
    "VALUES \n",
    "(1, '2023-01-01', 'Yes'),\n",
    "(2, '2023-02-02', 'No'),\n",
    "(3, '2023-03-03', 'Incomplete'),\n",
    "(4, '2023-04-04', 'Yes'),\n",
    "(5, '2023-05-05', 'No');\n",
    "COMMIT;\n",
    "SELECT * FROM `deliverystatus`;\n",
    "\n",
    "# Populating staff table\n",
    "SELECT * FROM `staff`;\n",
    "INSERT INTO `staff` (StaffId, Role, Salary, Name)\n",
    "VALUES \n",
    "(1, 'Manager', 3000.50, 'John Bolas'),\n",
    "(2, 'Waiter', 1000.10, 'Peter Papitas'),\n",
    "(3, 'Cashier', 5000.30, 'Mary Fresas'),\n",
    "(4, 'Bar tender', 4000.40, 'Sobrio Morales'),\n",
    "(5, 'The Boss', 120000.00, 'Pablo Gold');\n",
    "COMMIT;\n",
    "SELECT * FROM `staff`;\n",
    "\n",
    "# Populating booking table\n",
    "SELECT * FROM `bookings`;\n",
    "INSERT INTO `bookings` (BookingsId, Date, TableId, CustomerId, StaffId, DeliveryId, OrderId)\n",
    "VALUES \n",
    "(1, '2023-01-01', 1, 1, 1, 1, 1),\n",
    "(2, '2023-02-02', 2, 2, 2, 2, 2),\n",
    "(3, '2023-03-03', 3, 3, 3, 3, 3),\n",
    "(4, '2023-04-04', 4, 4, 4, 4, 4),\n",
    "(5, '2023-05-05', 5, 5, 5, 5, 5);\n",
    "COMMIT;\n",
    "SELECT * FROM `bookings`;\n",
    "\n",
    "# Task 1\n",
    "# In the first task, Little Lemon need you to create a virtual table called OrdersView that focuses on OrderID, \n",
    "# Quantity and Cost columns within the Orders table for all orders with a quantity greater than 2. \n",
    "\n",
    "CREATE VIEW OrdersView AS SELECT OrderId, Quantity, TotalCost FROM `orders` WHERE Quantity > 2;\n",
    "SELECT * FROM OrdersView;\n",
    "\n",
    "# Task 2\n",
    "# For your second task, Little Lemon need information from four tables on all customers with orders that cost more than $150. \n",
    "# Extract the required information from each of the following tables by using the relevant JOIN clause: \n",
    "\n",
    "SELECT customers.CustomerId AS 'Customer Id', customers.Name AS 'Full Name', orders.OrderId AS 'Order Id', orders.TotalCost AS Cost, menu.MenuName AS 'Menu Name', menuitems.Course AS 'Course Name'\n",
    "FROM customers\n",
    "    INNER JOIN orders\n",
    "        ON customers.CustomerId = orders.OrderId\n",
    "    INNER JOIN menu\n",
    "        ON orders.OrderId = menu.MenuId\n",
    "    INNER JOIN menuitems\n",
    "        ON menu.MenuId = menuitems.MenuItemsId\n",
    "ORDER BY Cost ASC;    \n",
    "\n",
    "# Task 3\n",
    "# For the third and final task, Little Lemon need you to find all menu items for which more than 2 orders have been placed. \n",
    "# You can carry out this task by creating a subquery that lists the menu names from the menus table for any order quantity with more than 2.\n",
    "\n",
    "SELECT MenuName\n",
    "FROM `menu`\n",
    "WHERE MenuId = ANY (SELECT MenuId FROM `orders` WHERE Quantity > 2);\n",
    "\n",
    "# Exercise: Create optimized queries to manage and analyze data\n",
    "\n",
    "# Task 1\n",
    "# In this first task, Little Lemon need you to create a procedure that displays the maximum ordered quantity in the Orders table. \n",
    "SELECT * FROM `orders`;\n",
    "\n",
    "CREATE PROCEDURE GetMaxQuantity()  \n",
    "SELECT MAX(Quantity) AS 'Max QUantity in Order'\n",
    "FROM `orders`;\n",
    "\n",
    "CALL GetMaxQuantity();\n",
    "\n",
    "# Task 2\n",
    "# In the second task, Little Lemon need you to help them to create a prepared statement called GetOrderDetail. \n",
    "# This prepared statement will help to reduce the parsing time of queries.\n",
    "SELECT * FROM `orders`;\n",
    "\n",
    "PREPARE GetOrderDetail FROM 'SELECT OrderId, Quantity, TotalCost FROM `orders` WHERE OrderId = ?';\n",
    "\n",
    "SET @id = 1;\n",
    "EXECUTE GetOrderDetail USING @id;\n",
    "\n",
    "# Task 3\n",
    "# Your third and final task is to create a stored procedure called CancelOrder. \n",
    "# Little Lemon want to use this stored procedure to delete an order record based on the user input of the order id.\n",
    "\n",
    "SELECT * FROM `orders`;\n",
    "\n",
    "CREATE PROCEDURE CancelOrder(IN Id INT)\n",
    "DELETE FROM `orders` WHERE OrderId = Id;\n",
    "\n",
    "CALL CancelOrder(5);"
   ]
  }
 ],
 "metadata": {
  "kernelspec": {
   "display_name": "Python 3 (ipykernel)",
   "language": "python",
   "name": "python3"
  },
  "language_info": {
   "codemirror_mode": {
    "name": "ipython",
    "version": 3
   },
   "file_extension": ".py",
   "mimetype": "text/x-python",
   "name": "python",
   "nbconvert_exporter": "python",
   "pygments_lexer": "ipython3",
   "version": "3.9.7"
  }
 },
 "nbformat": 4,
 "nbformat_minor": 5
}
